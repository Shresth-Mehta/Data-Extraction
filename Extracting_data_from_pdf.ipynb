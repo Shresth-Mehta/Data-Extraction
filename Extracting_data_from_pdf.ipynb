{
  "nbformat": 4,
  "nbformat_minor": 0,
  "metadata": {
    "colab": {
      "name": "Extracting_data_from_pdf.ipynb",
      "provenance": [],
      "authorship_tag": "ABX9TyMV9gyMhTj8PI8+VWxrazz3",
      "include_colab_link": true
    },
    "kernelspec": {
      "name": "python3",
      "display_name": "Python 3"
    }
  },
  "cells": [
    {
      "cell_type": "markdown",
      "metadata": {
        "id": "view-in-github",
        "colab_type": "text"
      },
      "source": [
        "<a href=\"https://colab.research.google.com/github/Shresth-Mehta/Data-Extraction/blob/master/Extracting_data_from_pdf.ipynb\" target=\"_parent\"><img src=\"https://colab.research.google.com/assets/colab-badge.svg\" alt=\"Open In Colab\"/></a>"
      ]
    },
    {
      "cell_type": "code",
      "metadata": {
        "id": "JYwe0rZf6y4X",
        "colab_type": "code",
        "colab": {}
      },
      "source": [
        "!sudo apt install tesseract-ocr\n",
        "!pip install pytesseract\n",
        "!pip install pdf2image\n",
        "!apt-get install poppler-utils"
      ],
      "execution_count": null,
      "outputs": []
    },
    {
      "cell_type": "code",
      "metadata": {
        "id": "zaDpsOIP68C7",
        "colab_type": "code",
        "colab": {}
      },
      "source": [
        "import pytesseract\n",
        "from PIL import Image\n",
        "from pdf2image import convert_from_path\n",
        "import os\n",
        "from tqdm import tqdm\n",
        "import cv2\n",
        "from pytesseract import Output\n",
        "import numpy as np\n",
        "import pandas as pd\n",
        "from google.colab.patches import cv2_imshow"
      ],
      "execution_count": 3,
      "outputs": []
    },
    {
      "cell_type": "code",
      "metadata": {
        "id": "MD847UGS69t-",
        "colab_type": "code",
        "colab": {}
      },
      "source": [
        "def pdf_to_img(input_file,folder_path):\n",
        "  print(\"Converting pdf to jpeg ...\")\n",
        "  images = convert_from_path(input_file)\n",
        "  with tqdm(total=len(images)) as pbar:\n",
        "    for i,img in enumerate(images):\n",
        "      path=os.path.join(folder_path,\"img_\"+str(i)+\".jpeg\")\n",
        "      img.save(path, \"JPEG\", optimize=True, progressive=True)\n",
        "      pbar.update(1)\n",
        "\n",
        "def edge_detection(img):\n",
        "  kernel_len=np.array(img).shape[1]//100\n",
        "  horizontal_kernel_len=np.array(img).shape[0]//25\n",
        "  ver_kernel=cv2.getStructuringElement(cv2.MORPH_RECT,(1,kernel_len))\n",
        "  hor_kernel=cv2.getStructuringElement(cv2.MORPH_RECT,(horizontal_kernel_len,1))\n",
        "  #kernel=cv2.getStructuringElement(cv2.MORPH_RECT,(2,2))\n",
        "  img_1=cv2.erode(img,ver_kernel,iterations=3)\n",
        "  vertical_lines=cv2.dilate(img_1,ver_kernel,iterations=3)\n",
        "  img_2=cv2.erode(img,hor_kernel,iterations=3)\n",
        "  horizontal_lines=cv2.dilate(img_2,hor_kernel,iterations=3)\n",
        "  return vertical_lines,horizontal_lines\n",
        "\n",
        "def get_combined_image(vertical_lines,horizontal_lines):\n",
        "  kernel=cv2.getStructuringElement(cv2.MORPH_RECT,(2,2))\n",
        "  img_vh=cv2.addWeighted(vertical_lines,0.5,horizontal_lines,0.5,0.0)\n",
        "  img_vh=cv2.erode(~img_vh,kernel,iterations=2)\n",
        "  thresh,img_vh=cv2.threshold(img_vh,175,255,cv2.THRESH_BINARY)\n",
        "  return img_vh"
      ],
      "execution_count": 4,
      "outputs": []
    },
    {
      "cell_type": "code",
      "metadata": {
        "id": "7ntz1dF47LQG",
        "colab_type": "code",
        "colab": {
          "base_uri": "https://localhost:8080/",
          "height": 50
        },
        "outputId": "1b074bb1-c6b1-437a-a6c1-ce20041e8171"
      },
      "source": [
        "#Make the required folders before executing\n",
        "pdf_to_img(\"/content/Order Regarding Containment Zone dated 17062020_1.pdf\",\"/content/gurugram\")"
      ],
      "execution_count": 6,
      "outputs": [
        {
          "output_type": "stream",
          "text": [
            "Converting pdf to jpeg ...\n"
          ],
          "name": "stdout"
        },
        {
          "output_type": "stream",
          "text": [
            "100%|██████████| 9/9 [00:02<00:00,  3.96it/s]\n"
          ],
          "name": "stderr"
        }
      ]
    },
    {
      "cell_type": "code",
      "metadata": {
        "id": "dXVd4tnr7P0v",
        "colab_type": "code",
        "colab": {
          "base_uri": "https://localhost:8080/",
          "height": 34
        },
        "outputId": "59025fc8-3fdb-48ef-8809-4f33af60f9c5"
      },
      "source": [
        "path=\"/content/gurugram\"\n",
        "with tqdm(total=len(os.listdir(path))) as pbar:\n",
        "  for i,img_path in enumerate(sorted(os.listdir(path))):\n",
        "    img_path=os.path.join(path,img_path)\n",
        "    img=cv2.imread(img_path,0)  #0 helps u to read it as greyscale instead of RGB\n",
        "    \n",
        "   \n",
        "    thresh,img_th = cv2.threshold(img,185,255,cv2.THRESH_BINARY)\n",
        "    img_bin = 255-img_th\n",
        "\n",
        "    # finding vertical and horizontal images and combining them \n",
        "    vertical_lines,horizontal_lines=edge_detection(img_bin)\n",
        "    combined_img=get_combined_image(vertical_lines,horizontal_lines)\n",
        "\n",
        "    # removing table from the image\n",
        "    img_th[combined_img==0]=255\n",
        "\n",
        "    #Reducing noise in the image\n",
        "    kernel=cv2.getStructuringElement(cv2.MORPH_RECT,(2,2))\n",
        "    img_noise_rem=cv2.dilate(img_th,kernel,iterations=1)\n",
        "    img_noise_rem=cv2.erode(img_noise_rem,kernel,iterations=1)\n",
        "    thresh,img_denoised = cv2.threshold(img_noise_rem,175,255,cv2.THRESH_BINARY)\n",
        "\n",
        "    # extraction of the data into a string\n",
        "    custom_config=r'--oem 3 --psm 4 -1 eng'\n",
        "    s=pytesseract.image_to_string(img_denoised,lang=\"eng\",config=custom_config)\n",
        "    l=s.split(\"\\n\")\n",
        "    file_name=str(i)+\"_sample.txt\"\n",
        "    #save_file_path=os.path.join(save_folder_path,file_name)\n",
        "    with open(file_name,\"w\") as f:\n",
        "      for i in l:\n",
        "        f.write(i+\"\\n\")\n",
        "    pbar.update(1)"
      ],
      "execution_count": 8,
      "outputs": [
        {
          "output_type": "stream",
          "text": [
            "100%|██████████| 9/9 [01:03<00:00,  7.03s/it]\n"
          ],
          "name": "stderr"
        }
      ]
    }
  ]
}